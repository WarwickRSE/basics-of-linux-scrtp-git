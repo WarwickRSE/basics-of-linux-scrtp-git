{
 "cells": [
  {
   "cell_type": "markdown",
   "metadata": {
    "vscode": {
     "languageId": "html"
    }
   },
   "source": [
    "# SCRTP Systems Map\n",
    "\n",
    "To be able to make use of a lot of what we have covered we need to know what locations and resources we have access to.\n",
    "To accompany the lecture here are some maps of the SCRTP infrastructure.\n",
    "\n",
    "## Full map \n",
    "\n",
    "This is a full map of the SCRTP kit. The template <variable> is used to show where a individual users information should be substituted."
   ]
  },
  {
   "cell_type": "markdown",
   "metadata": {},
   "source": [
    "![Full system map](./images/SCRTP-Kit-All.drawio.svg)"
   ]
  },
  {
   "cell_type": "markdown",
   "metadata": {},
   "source": [
    "## In this picture\n",
    "\n",
    "### Godzilla\n",
    "\n",
    "Godzilla is the name of one of our\n",
    "\n",
    "### Taskfarm\n",
    "\n",
    "### Storage\n",
    "\n",
    "### Avon\n",
    "\n",
    "### Blythe\n",
    "\n",
    "### Sulis\n"
   ]
  }
 ],
 "metadata": {
  "language_info": {
   "name": "python"
  }
 },
 "nbformat": 4,
 "nbformat_minor": 2
}

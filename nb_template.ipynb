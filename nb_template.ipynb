{
 "cells": [
  {
   "attachments": {},
   "cell_type": "markdown",
   "metadata": {},
   "source": [
    "# Markdown\n",
    "\n",
    "Use markdown to create lesson content"
   ]
  },
  {
   "cell_type": "code",
   "execution_count": null,
   "metadata": {},
   "outputs": [],
   "source": [
    "# Write well commented code cells to encourage good practice and enrich content\n",
    "print('test')"
   ]
  },
  {
   "attachments": {},
   "cell_type": "markdown",
   "metadata": {},
   "source": [
    "Keep explanations to a minimum if there is greater depth make it optional using hidden text\n",
    "\n",
    "<details>\n",
    "<summary>Make use of dropdown!</summary>\n",
    "\n",
    "```html\n",
    "\n",
    "<details>\n",
    "<summary>Title</summary>\n",
    "\n",
    "\n",
    "</details>\n",
    "```\n",
    "\n",
    "</details>"
   ]
  },
  {
   "cell_type": "code",
   "execution_count": null,
   "metadata": {
    "vscode": {
     "languageId": "html"
    }
   },
   "outputs": [],
   "source": [
    "<details>\n",
    "<summary>Dropdown Template</summary>\n",
    "\n",
    "\n",
    "</details>"
   ]
  },
  {
   "attachments": {},
   "cell_type": "markdown",
   "metadata": {},
   "source": [
    "![Alt text to an image](img/some-helpful-image.png)"
   ]
  },
  {
   "cell_type": "code",
   "execution_count": null,
   "metadata": {},
   "outputs": [],
   "source": [
    "import things_that_would_scare_learners\n",
    "things_that_would_scare_learners.like_this()"
   ]
  },
  {
   "cell_type": "markdown",
   "metadata": {},
   "source": [
    "# Open a script in the editor\n",
    "\"../../../edit/Intermediate%20Python/intermediate-python/\""
   ]
  },
  {
   "cell_type": "markdown",
   "metadata": {},
   "source": [
    "## Next Section \n",
    "\n",
    "[0X-next-notebook](./0X-next-notebook.ipynb)"
   ]
  }
 ],
 "metadata": {
  "kernelspec": {
   "display_name": ".venv",
   "language": "python",
   "name": "python3"
  },
  "language_info": {
   "name": "python",
   "version": "3.11.1"
  },
  "orig_nbformat": 4
 },
 "nbformat": 4,
 "nbformat_minor": 2
}

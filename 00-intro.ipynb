{
 "cells": [
  {
   "cell_type": "markdown",
   "metadata": {},
   "source": [
    "# Introduction to Linux\n",
    "\n",
    "For a extremely thorough and technical description of the content of this course see our [Moodle course](https://moodle.warwick.ac.uk/mod/page/view.php?id=2145174)\n",
    "\n",
    "## What is Linux\n",
    "\n",
    "Linux is an operating system (OS). \n",
    "You will be familiar with one or more of Windows, MacOS, IOS, or Android. These are all Operating Systems made for different devices with different intentions. \n",
    "Windows and MacOS are for personal (and professional) computing appearing on laptops and desktops. \n",
    "Android and IOS are intended for portable devices such as phones and tablets, although Android also appears on many other devices such as the fire TV stick. \n",
    "Interestingly Android, technically, is also Linux.\n",
    "\n",
    "For our purposes Linux is an operating system that comes by default with a lot of tools that are invaluable for developing and running scientific software. \n",
    "Because of this Linux is the operating system run on nearly all HPC computing systems. \n",
    "Specifically here at Warwick the SCRTP have a Linux desktop and multiple computing clusters that run Linux. \n",
    "So you need to know it.\n",
    "\n",
    "## Ubuntu, RedHat, Debian, Rocky, CentOS, Aarch...\n",
    "\n",
    "There are dozens of Linux Operating Systems, or 'Distros' as they are commonly called.\n",
    "Many Distros are 'descended' from others, you can see a [family tree here](https://en.wikipedia.org/wiki/List_of_Linux_distributions#/media/File:Linux_Distribution_Timeline.svg).\n",
    "An example of this is RedHat which has spawned many Distros but of note are CentOS which then became CentOS Stream, more relevant to us Red Hat also spawned Rocky Linux as this is the distro used for SCRTP Linux.\n",
    "The main functional difference from a user perspective, beyond the look and feel, of a distro is its package manager.\n",
    "A package manger is like an App Store think Windows store, App Store (MacOS or IOS), or the Google Play store.\n",
    "You will see a few major ones, Snap, APT, DPKG, YUM, DNF, RPM, Pacman, Zypper... and we find again here that some of these are updates or modifications of others, DNF and YUM both build on RPM but add bells and whistles and DNF is actually an update on YUM. On SCRTP Linux software is centrally managed so you cant use a package manager. \n",
    "Instead you can use the 'modules' program to manage what software is loaded, more on this later.\n",
    "\n",
    "## Why none of this matters to us\n",
    "\n",
    "Once you know which distro you are using and which package manager it is using we can, mostly, ignore the rest.\n",
    "However the real reason we can, mostly, ignore it is because all we really care about for this course is the shell or bash."
   ]
  }
 ],
 "metadata": {
  "language_info": {
   "name": "python"
  }
 },
 "nbformat": 4,
 "nbformat_minor": 2
}

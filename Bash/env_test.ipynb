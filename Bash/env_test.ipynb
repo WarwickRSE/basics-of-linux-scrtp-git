{
 "cells": [
  {
   "cell_type": "code",
   "execution_count": null,
   "metadata": {},
   "outputs": [],
   "source": [
    "try:\n",
    "    from ase import Atoms\n",
    "    print(\"ase available\")\n",
    "except ImportError:\n",
    "    print(\"ase not available\")\n",
    "    raise\n",
    "try:\n",
    "    import torch\n",
    "    print(\"torch reports {torch.cuda.is_available()}\")\n",
    "except ImportError:\n",
    "    print(\"torch not available\")\n",
    "    raise\n",
    "try:\n",
    "    from cutensor.torch import EinsumGeneral\n",
    "    print(\"cutensor.torch.EinsumGeneral available\")\n",
    "except ImportError:\n",
    "    print(\"cutensor.torch.EinsumGeneral not available\")\n",
    "    raise\n"
   ]
  }
 ],
 "metadata": {
  "language_info": {
   "name": "python"
  }
 },
 "nbformat": 4,
 "nbformat_minor": 2
}
